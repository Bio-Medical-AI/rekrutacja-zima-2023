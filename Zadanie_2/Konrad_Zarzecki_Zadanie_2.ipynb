{
  "nbformat": 4,
  "nbformat_minor": 0,
  "metadata": {
    "colab": {
      "provenance": [],
      "authorship_tag": "ABX9TyOORn+6nY8s86WRzIkgXCWG",
      "include_colab_link": true
    },
    "kernelspec": {
      "name": "python3",
      "display_name": "Python 3"
    },
    "language_info": {
      "name": "python"
    }
  },
  "cells": [
    {
      "cell_type": "markdown",
      "metadata": {
        "id": "view-in-github",
        "colab_type": "text"
      },
      "source": [
        "<a href=\"https://colab.research.google.com/github/KingLoczek/rekrutacja-zima-2023/blob/main/Zadanie2.ipynb\" target=\"_parent\"><img src=\"https://colab.research.google.com/assets/colab-badge.svg\" alt=\"Open In Colab\"/></a>"
      ]
    },
    {
      "cell_type": "code",
      "source": [
        "#Wczytanie bibliotek\n",
        "!pip install e2cnn\n",
        "import os\n",
        "from google.colab import drive\n",
        "from PIL import Image\n",
        "import cv2\n",
        "import numpy as np\n",
        "import matplotlib.pyplot as plt\n",
        "from sklearn.model_selection import train_test_split\n",
        "from IPython.display import display\n",
        "import torch\n",
        "from torch.utils.data import Dataset, DataLoader\n",
        "from torchvision import transforms\n",
        "from PIL import Image\n",
        "from sklearn.model_selection import train_test_split\n",
        "import torch.nn as nn\n",
        "import torch.optim as optim\n",
        "from e2cnn import gspaces\n",
        "from e2cnn import nn as gnn\n",
        "from e2cnn import group"
      ],
      "metadata": {
        "colab": {
          "base_uri": "https://localhost:8080/"
        },
        "id": "BOyQgbe0b9h0",
        "outputId": "35e84cba-f631-44e1-8d95-9777c63ee275"
      },
      "execution_count": 1,
      "outputs": [
        {
          "output_type": "stream",
          "name": "stdout",
          "text": [
            "Requirement already satisfied: e2cnn in /usr/local/lib/python3.10/dist-packages (0.2.3)\n",
            "Requirement already satisfied: torch in /usr/local/lib/python3.10/dist-packages (from e2cnn) (2.1.0+cu118)\n",
            "Requirement already satisfied: numpy in /usr/local/lib/python3.10/dist-packages (from e2cnn) (1.23.5)\n",
            "Requirement already satisfied: scipy in /usr/local/lib/python3.10/dist-packages (from e2cnn) (1.11.3)\n",
            "Requirement already satisfied: sympy in /usr/local/lib/python3.10/dist-packages (from e2cnn) (1.12)\n",
            "Requirement already satisfied: mpmath>=0.19 in /usr/local/lib/python3.10/dist-packages (from sympy->e2cnn) (1.3.0)\n",
            "Requirement already satisfied: filelock in /usr/local/lib/python3.10/dist-packages (from torch->e2cnn) (3.13.1)\n",
            "Requirement already satisfied: typing-extensions in /usr/local/lib/python3.10/dist-packages (from torch->e2cnn) (4.5.0)\n",
            "Requirement already satisfied: networkx in /usr/local/lib/python3.10/dist-packages (from torch->e2cnn) (3.2.1)\n",
            "Requirement already satisfied: jinja2 in /usr/local/lib/python3.10/dist-packages (from torch->e2cnn) (3.1.2)\n",
            "Requirement already satisfied: fsspec in /usr/local/lib/python3.10/dist-packages (from torch->e2cnn) (2023.6.0)\n",
            "Requirement already satisfied: triton==2.1.0 in /usr/local/lib/python3.10/dist-packages (from torch->e2cnn) (2.1.0)\n",
            "Requirement already satisfied: MarkupSafe>=2.0 in /usr/local/lib/python3.10/dist-packages (from jinja2->torch->e2cnn) (2.1.3)\n"
          ]
        }
      ]
    },
    {
      "cell_type": "code",
      "execution_count": 2,
      "metadata": {
        "colab": {
          "base_uri": "https://localhost:8080/"
        },
        "id": "Cltz-v5rszyt",
        "outputId": "ff78ef82-20bb-4dfd-b6f7-5a3a6dd2794a"
      },
      "outputs": [
        {
          "output_type": "stream",
          "name": "stdout",
          "text": [
            "Drive already mounted at /content/drive; to attempt to forcibly remount, call drive.mount(\"/content/drive\", force_remount=True).\n"
          ]
        }
      ],
      "source": [
        "#Pobranie zawartosci folderu z dysku google (Retina Blood Vessel)\n",
        "drive.mount('/content/drive')"
      ]
    },
    {
      "cell_type": "code",
      "source": [
        "# Ścieżki do folderów\n",
        "test_images_folder = '/content/drive/My Drive/Colab Notebooks/Data/test/image'\n",
        "test_mask_folder = '/content/drive/My Drive/Colab Notebooks/Data/test/mask'\n",
        "train_images_folder = '/content/drive/My Drive/Colab Notebooks/Data/train/image'\n",
        "train_mask_folder = '/content/drive/My Drive/Colab Notebooks/Data/train/mask'\n",
        "\n",
        "\n",
        "# Sprawdź, czy folder istnieje\n",
        "if os.path.exists(test_mask_folder):\n",
        "    # # Wyświetl obrazy PNG\n",
        "    # png_files = [f for f in os.listdir(test_mask) if f.endswith('.png')]\n",
        "    # if png_files:\n",
        "    #     for png_file in png_files:\n",
        "    #         image_path = os.path.join(test_mask, png_file)\n",
        "    #         img = Image.open(image_path)\n",
        "    #         display(img)\n",
        "    # else:\n",
        "    #     print(\"Brak plików PNG w folderze.\")\n",
        "    print(\"Wszystko git.\")\n",
        "else:\n",
        "    print(\"Podana ścieżka nie istnieje.\")"
      ],
      "metadata": {
        "colab": {
          "base_uri": "https://localhost:8080/"
        },
        "id": "gqYDOlba8rD8",
        "outputId": "d8d0b3d4-ddcc-4039-f3b4-758e91ef6364"
      },
      "execution_count": 3,
      "outputs": [
        {
          "output_type": "stream",
          "name": "stdout",
          "text": [
            "Wszystko git.\n"
          ]
        }
      ]
    },
    {
      "cell_type": "code",
      "source": [
        "# Utwórz własny dataset na podstawie folderów z obrazami i etykietami\n",
        "class CustomDataset(Dataset):\n",
        "    def __init__(self, image_folder, mask_folder, transform=None):\n",
        "        self.image_folder = image_folder\n",
        "        self.mask_folder = mask_folder\n",
        "        self.transform = transform\n",
        "\n",
        "        # Wczytaj nazwy plików obrazów i etykiet\n",
        "        self.images = os.listdir(image_folder)\n",
        "        self.masks = os.listdir(mask_folder)\n",
        "\n",
        "    def __len__(self):\n",
        "        return len(self.images)\n",
        "\n",
        "    def __getitem__(self, idx):\n",
        "        img_name = os.path.join(self.image_folder, self.images[idx])\n",
        "        mask_name = os.path.join(self.mask_folder, self.masks[idx])\n",
        "\n",
        "        # Wczytaj obraz i etykietę\n",
        "        img = Image.open(img_name).convert('RGB')\n",
        "        mask = Image.open(mask_name).convert('L')  # Konwertuj do skali szarości\n",
        "\n",
        "        if self.transform:\n",
        "            img = self.transform(img)\n",
        "            mask = self.transform(mask)\n",
        "\n",
        "        return img, mask\n",
        "\n",
        "# Przygotuj transformacje danych\n",
        "transform = transforms.Compose([\n",
        "    transforms.Resize((256, 256)),\n",
        "    transforms.ToTensor(),\n",
        "])\n",
        "\n",
        "# Utwórz instancje datasetów dla zbiorów treningowego, walidacyjnego i testowego\n",
        "train_dataset = CustomDataset(train_images_folder, train_mask_folder, transform=transform)\n",
        "test_dataset = CustomDataset(test_images_folder, test_mask_folder, transform=transform)\n",
        "\n",
        "# Podziel zbiór treningowy na treningowy i walidacyjny\n",
        "train_indices, val_indices = train_test_split(range(len(train_dataset)), test_size=0.2, random_state=42)\n",
        "\n",
        "# Utwórz DataLoader dla zbiorów treningowego, walidacyjnego i testowego\n",
        "train_loader = DataLoader(dataset=train_dataset, batch_size=32, sampler=torch.utils.data.SubsetRandomSampler(train_indices))\n",
        "val_loader = DataLoader(dataset=train_dataset, batch_size=32, sampler=torch.utils.data.SubsetRandomSampler(val_indices))\n",
        "test_loader = DataLoader(dataset=test_dataset, batch_size=32, shuffle=False)\n",
        "\n",
        "# # Wyświetl przykładowe obrazy z datasetu\n",
        "# sample = next(iter(train_loader))\n",
        "# images, masks = sample\n",
        "\n",
        "# # Wyświetl kilka przykładowych obrazów i etykiet\n",
        "# for i in range(5):\n",
        "#     display(transforms.ToPILImage()(images[i]))\n",
        "#     display(transforms.ToPILImage()(masks[i]))"
      ],
      "metadata": {
        "id": "ht3DYQbvNj8i"
      },
      "execution_count": 4,
      "outputs": []
    }
  ]
}